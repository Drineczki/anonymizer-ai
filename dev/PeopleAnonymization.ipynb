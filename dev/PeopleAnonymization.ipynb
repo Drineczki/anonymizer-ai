{
 "cells": [
  {
   "cell_type": "markdown",
   "id": "54dc8926-b1e3-4b40-9ea6-592af2432099",
   "metadata": {},
   "source": [
    "# People Anonymization\n",
    "\n",
    "### Project: Anonymizer\n",
    "\n",
    "#### Drineczki AI"
   ]
  },
  {
   "cell_type": "code",
   "execution_count": 1,
   "id": "b7549669-c852-4d89-9580-ff466debb4e9",
   "metadata": {},
   "outputs": [],
   "source": [
    "import os\n",
    "os.chdir(\"..\")"
   ]
  },
  {
   "cell_type": "code",
   "execution_count": 2,
   "id": "3b1a45b6-45a3-4ce0-ae75-aadbc09728ad",
   "metadata": {},
   "outputs": [],
   "source": [
    "import anonymizer.agent as A\n",
    "\n",
    "%load_ext autoreload\n",
    "%autoreload 2"
   ]
  },
  {
   "cell_type": "code",
   "execution_count": 3,
   "id": "196fb876-fe0a-43ff-bf18-fdd32d429ddb",
   "metadata": {},
   "outputs": [],
   "source": [
    "SPACY_MODEL_PIPELINE = os.path.join(os.getcwd(), \"models\", \"spacy\", \"pl_core_news_md-3.1.0\")\n",
    "\n",
    "SAMPLE_TEXT = \"\"\"\n",
    "    Komornik Sądowy przy Sądzie Rejonowym w Gdańsku Karol Jan Kurenda-Nowak \n",
    "    w sprawie egzekucyjnej z wniosku wierzyciela: \n",
    "    easyDEBT Niestandaryzowany Sekurytyzacyjn Fundusz Inwestycyjny Zamknięty \n",
    "    01-208 Warszawa, Przyokopowa 33 którego reprezentuje: Mateusz Malaka, 53-333 Wrocław, \n",
    "    Powstańców Śląskich 2-4\n",
    "    A wszystkiemu nadzorował SSA Andrzej Jan Kowalski-Wojciechowski.\n",
    "\"\"\""
   ]
  },
  {
   "cell_type": "code",
   "execution_count": 4,
   "id": "a5f41bd3-bba7-4429-9b16-37705ad29c21",
   "metadata": {},
   "outputs": [],
   "source": [
    "agent = A.DocumentAnonymizer(spacy_pipeline_path=SPACY_MODEL_PIPELINE)"
   ]
  },
  {
   "cell_type": "code",
   "execution_count": 5,
   "id": "9edb305d-3a0f-4197-ad93-01b369328e25",
   "metadata": {},
   "outputs": [
    {
     "data": {
      "text/plain": [
       "[AnonymizationResult(entity='Mateusz Malaka', anonymization='M. M.')]"
      ]
     },
     "execution_count": 5,
     "metadata": {},
     "output_type": "execute_result"
    }
   ],
   "source": [
    "people_anonymizations = agent.anonymize(text=SAMPLE_TEXT)\n",
    "\n",
    "people_anonymizations"
   ]
  }
 ],
 "metadata": {
  "kernelspec": {
   "display_name": "Python 3 (ipykernel)",
   "language": "python",
   "name": "python3"
  },
  "language_info": {
   "codemirror_mode": {
    "name": "ipython",
    "version": 3
   },
   "file_extension": ".py",
   "mimetype": "text/x-python",
   "name": "python",
   "nbconvert_exporter": "python",
   "pygments_lexer": "ipython3",
   "version": "3.9.5"
  }
 },
 "nbformat": 4,
 "nbformat_minor": 5
}
