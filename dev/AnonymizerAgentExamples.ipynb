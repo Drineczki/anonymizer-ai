{
 "cells": [
  {
   "cell_type": "markdown",
   "id": "63505a62-9ec2-41e7-9564-fb25dfc188c3",
   "metadata": {},
   "source": [
    "# Anonymizer Agent Examples\n",
    "\n",
    "### Project: Anonymizer\n",
    "\n",
    "#### Drineczki AI"
   ]
  },
  {
   "cell_type": "code",
   "execution_count": 1,
   "id": "19ac7c45-3eaf-4187-8ab1-503d8e04561d",
   "metadata": {},
   "outputs": [],
   "source": [
    "import os\n",
    "os.chdir(\"..\")"
   ]
  },
  {
   "cell_type": "code",
   "execution_count": 2,
   "id": "679524b1-9373-4a04-a6c4-36a22846cf3b",
   "metadata": {},
   "outputs": [],
   "source": [
    "import pandas as pd\n",
    "from IPython.display import display, HTML\n",
    "\n",
    "import anonymizer.agent as ai\n",
    "\n",
    "%load_ext autoreload\n",
    "%autoreload 2"
   ]
  },
  {
   "cell_type": "code",
   "execution_count": 3,
   "id": "b612c8c6-4d08-4c27-91de-c311d57f28c9",
   "metadata": {},
   "outputs": [],
   "source": [
    "SPACY_MODEL_PIPELINE = os.path.join(os.getcwd(), \"models\", \"spacy\", \"pl_core_news_md-3.1.0\") "
   ]
  },
  {
   "cell_type": "code",
   "execution_count": 4,
   "id": "a14ba747-4def-4d49-a2c1-78b8eeb8557b",
   "metadata": {},
   "outputs": [],
   "source": [
    "agent = ai.DocumentAnonymizer(spacy_pipeline_path=SPACY_MODEL_PIPELINE)"
   ]
  },
  {
   "cell_type": "code",
   "execution_count": 5,
   "id": "e3dad0fc-e0d9-4197-92b6-24b3c71c2642",
   "metadata": {},
   "outputs": [],
   "source": [
    "def generate_result(text):\n",
    "    output = agent.anonymize(text)\n",
    "    \n",
    "    return \"\\n\".join([f\"{out.entity} => {out.anonymization}\" for out in output])\n",
    "\n",
    "\n",
    "def pretty_print(df):\n",
    "    return display( HTML( df.to_html().replace(\"\\\\n\",\"<br>\") ) )"
   ]
  },
  {
   "cell_type": "markdown",
   "id": "816a1f64-670c-46ca-a83a-2108fde9cdcc",
   "metadata": {},
   "source": [
    "#### People entities anonymization"
   ]
  },
  {
   "cell_type": "code",
   "execution_count": 6,
   "id": "3bb45c32-75b3-4ae2-8ace-626d7646a1f8",
   "metadata": {},
   "outputs": [
    {
     "data": {
      "text/html": [
       "<table border=\"1\" class=\"dataframe\">\n",
       "  <thead>\n",
       "    <tr style=\"text-align: right;\">\n",
       "      <th></th>\n",
       "      <th>input_text</th>\n",
       "      <th>anonymizations</th>\n",
       "    </tr>\n",
       "  </thead>\n",
       "  <tbody>\n",
       "    <tr>\n",
       "      <th>0</th>\n",
       "      <td>SSA Jan Kowalski</td>\n",
       "      <td>BRAK</td>\n",
       "    </tr>\n",
       "    <tr>\n",
       "      <th>1</th>\n",
       "      <td>Protokolant: Jan Kowalski</td>\n",
       "      <td>BRAK</td>\n",
       "    </tr>\n",
       "    <tr>\n",
       "      <th>2</th>\n",
       "      <td>Powód: Anna Barbara Kowalska-Nowak podjęła decyzję.</td>\n",
       "      <td>Anna Barbara Kowalska-Nowak =&gt; A. N.</td>\n",
       "    </tr>\n",
       "    <tr>\n",
       "      <th>3</th>\n",
       "      <td>świadkowie Kuba, Bartłomiej i Jan</td>\n",
       "      <td>Kuba =&gt; K.<br>Bartłomiej =&gt; B.</td>\n",
       "    </tr>\n",
       "    <tr>\n",
       "      <th>4</th>\n",
       "      <td>Anna Kowalska nigdy nie lubiła Piotra Nowaka.</td>\n",
       "      <td>Anna Kowalska =&gt; A. K.<br>Piotra Nowaka =&gt; P. N.</td>\n",
       "    </tr>\n",
       "    <tr>\n",
       "      <th>5</th>\n",
       "      <td>Pan Cezary Nowak mieszkał w Kędzierzynie-Koźlu nad rzeką Odrą.</td>\n",
       "      <td>Cezary Nowak =&gt; C. N.<br>Kędzierzynie =&gt; K.</td>\n",
       "    </tr>\n",
       "  </tbody>\n",
       "</table>"
      ],
      "text/plain": [
       "<IPython.core.display.HTML object>"
      ]
     },
     "metadata": {},
     "output_type": "display_data"
    }
   ],
   "source": [
    "examples = [\n",
    "    \"SSA Jan Kowalski\",\n",
    "    \"Protokolant: Jan Kowalski\",\n",
    "    \"Powód: Anna Barbara Kowalska-Nowak podjęła decyzję.\",\n",
    "    \"świadkowie Kuba, Bartłomiej i Jan\",\n",
    "    \"Anna Kowalska nigdy nie lubiła Piotra Nowaka.\",\n",
    "    \"Pan Cezary Nowak mieszkał w Kędzierzynie-Koźlu nad rzeką Odrą.\",\n",
    "]\n",
    "\n",
    "results = {\n",
    "    \"input_text\": [],\n",
    "    \"anonymizations\": [],\n",
    "}\n",
    "for ex in examples:\n",
    "    results[\"input_text\"].append(ex)\n",
    "    out = generate_result(ex)\n",
    "    if len(out) == 0:\n",
    "        out = \"BRAK\"\n",
    "    results[\"anonymizations\"].append(out)\n",
    "    \n",
    "pretty_print(pd.DataFrame(results))"
   ]
  },
  {
   "cell_type": "markdown",
   "id": "f7ec54b6-4ed7-4544-9595-f8003c134411",
   "metadata": {},
   "source": [
    "#### Places entities anonymization"
   ]
  },
  {
   "cell_type": "code",
   "execution_count": 7,
   "id": "31eb5598-a588-4f2b-8093-740fdedf31fe",
   "metadata": {},
   "outputs": [
    {
     "data": {
      "text/html": [
       "<table border=\"1\" class=\"dataframe\">\n",
       "  <thead>\n",
       "    <tr style=\"text-align: right;\">\n",
       "      <th></th>\n",
       "      <th>input_text</th>\n",
       "      <th>anonymizations</th>\n",
       "    </tr>\n",
       "  </thead>\n",
       "  <tbody>\n",
       "    <tr>\n",
       "      <th>0</th>\n",
       "      <td>Sąd Apelacyjny we Wrocławiu od wyroku Okręgowego w Opolu</td>\n",
       "      <td>BRAK</td>\n",
       "    </tr>\n",
       "    <tr>\n",
       "      <th>1</th>\n",
       "      <td>Powód zawarł we Wrocławiu umowę o kredyt długoterminowy.</td>\n",
       "      <td>BRAK</td>\n",
       "    </tr>\n",
       "    <tr>\n",
       "      <th>2</th>\n",
       "      <td>Wydarzenie miało miejsce w Jeleniej Górze.</td>\n",
       "      <td>Jeleniej Górze =&gt; J.</td>\n",
       "    </tr>\n",
       "    <tr>\n",
       "      <th>3</th>\n",
       "      <td>Świadek widział oskarżonego w Kamiennej Górze w sobotę rano.</td>\n",
       "      <td>Kamiennej Górze =&gt; K.</td>\n",
       "    </tr>\n",
       "    <tr>\n",
       "      <th>4</th>\n",
       "      <td>mieszkał w powiecie oleśnickim przy jeziorze Wigry Wielkie</td>\n",
       "      <td>powiecie oleśnickim =&gt; powiecie (...)<br>jeziorze Wigry Wielkie =&gt;  jeziorze W.</td>\n",
       "    </tr>\n",
       "    <tr>\n",
       "      <th>5</th>\n",
       "      <td>Morderstwo na ul. Powstańców Śląskich</td>\n",
       "      <td>ul. Powstańców Śląskich =&gt; ul. (...)</td>\n",
       "    </tr>\n",
       "    <tr>\n",
       "      <th>6</th>\n",
       "      <td>Widziałem świadka przy placu Trzech Krzyży.</td>\n",
       "      <td>placu Trzech Krzyży =&gt; placu (...)</td>\n",
       "    </tr>\n",
       "    <tr>\n",
       "      <th>7</th>\n",
       "      <td>Komornik Sądowy przy Sądzie Rejonowym w Warszawie Karol Kurenda w sprawie egzekucyjnej z wniosku wierzyciela.</td>\n",
       "      <td>BRAK</td>\n",
       "    </tr>\n",
       "  </tbody>\n",
       "</table>"
      ],
      "text/plain": [
       "<IPython.core.display.HTML object>"
      ]
     },
     "metadata": {},
     "output_type": "display_data"
    }
   ],
   "source": [
    "examples = [\n",
    "    \"Sąd Apelacyjny we Wrocławiu od wyroku Okręgowego w Opolu\",\n",
    "    \"Powód zawarł we Wrocławiu umowę o kredyt długoterminowy.\",\n",
    "    \"Wydarzenie miało miejsce w Jeleniej Górze.\",\n",
    "    \"Świadek widział oskarżonego w Kamiennej Górze w sobotę rano.\",\n",
    "    \"mieszkał w powiecie oleśnickim przy jeziorze Wigry Wielkie\",\n",
    "    \"Morderstwo na ul. Powstańców Śląskich\",\n",
    "    \"Widziałem świadka przy placu Trzech Krzyży.\",\n",
    "    \"Komornik Sądowy przy Sądzie Rejonowym w Warszawie Karol Kurenda w sprawie egzekucyjnej z wniosku wierzyciela.\"\n",
    "]\n",
    "\n",
    "results = {\n",
    "    \"input_text\": [],\n",
    "    \"anonymizations\": [],\n",
    "}\n",
    "for ex in examples:\n",
    "    results[\"input_text\"].append(ex)\n",
    "    out = generate_result(ex)\n",
    "    if len(out) == 0:\n",
    "        out = \"BRAK\"\n",
    "    results[\"anonymizations\"].append(out)\n",
    "    \n",
    "pretty_print(pd.DataFrame(results))"
   ]
  },
  {
   "cell_type": "markdown",
   "id": "70df439d-5eaf-41e2-b3d0-78c703b0a13d",
   "metadata": {},
   "source": [
    "#### Internet entities anonymization"
   ]
  },
  {
   "cell_type": "code",
   "execution_count": 8,
   "id": "54d008b5-e5e7-4873-8108-16b95e9eabab",
   "metadata": {},
   "outputs": [
    {
     "data": {
      "text/html": [
       "<table border=\"1\" class=\"dataframe\">\n",
       "  <thead>\n",
       "    <tr style=\"text-align: right;\">\n",
       "      <th></th>\n",
       "      <th>input_text</th>\n",
       "      <th>anonymizations</th>\n",
       "    </tr>\n",
       "  </thead>\n",
       "  <tbody>\n",
       "    <tr>\n",
       "      <th>0</th>\n",
       "      <td>Mój adres (Wiktor Łazarski) mailowy to wjlazarski@gmail.com</td>\n",
       "      <td>Wiktor Łazarski =&gt; W. Ł.<br>wjlazarski@gmail.com =&gt; (...)</td>\n",
       "    </tr>\n",
       "    <tr>\n",
       "      <th>1</th>\n",
       "      <td>Wysłała brzydką wiadomość z maila sonia1974@mail.com</td>\n",
       "      <td>sonia1974@mail.com =&gt; (...)</td>\n",
       "    </tr>\n",
       "    <tr>\n",
       "      <th>2</th>\n",
       "      <td>Pojawił się na stronie internetowej www.portal.prawo.pl</td>\n",
       "      <td>www.portal.prawo.pl =&gt; (...)</td>\n",
       "    </tr>\n",
       "  </tbody>\n",
       "</table>"
      ],
      "text/plain": [
       "<IPython.core.display.HTML object>"
      ]
     },
     "metadata": {},
     "output_type": "display_data"
    }
   ],
   "source": [
    "examples = [\n",
    "    \"Mój adres (Wiktor Łazarski) mailowy to wjlazarski@gmail.com\",\n",
    "    \"Wysłała brzydką wiadomość z maila sonia1974@mail.com\",\n",
    "    \"Pojawił się na stronie internetowej www.portal.prawo.pl\"\n",
    "]\n",
    "\n",
    "results = {\n",
    "    \"input_text\": [],\n",
    "    \"anonymizations\": [],\n",
    "}\n",
    "for ex in examples:\n",
    "    results[\"input_text\"].append(ex)\n",
    "    out = generate_result(ex)\n",
    "    if len(out) == 0:\n",
    "        out = \"BRAK\"\n",
    "    results[\"anonymizations\"].append(out)\n",
    "    \n",
    "pretty_print(pd.DataFrame(results))"
   ]
  },
  {
   "cell_type": "markdown",
   "id": "4c77522a-087c-4fbc-b968-54c3032ebed0",
   "metadata": {},
   "source": [
    "#### Numerical entities anonymization"
   ]
  },
  {
   "cell_type": "code",
   "execution_count": 9,
   "id": "6d9ce9aa-68df-4336-b7ca-d5b4dc377e82",
   "metadata": {},
   "outputs": [
    {
     "data": {
      "text/html": [
       "<table border=\"1\" class=\"dataframe\">\n",
       "  <thead>\n",
       "    <tr style=\"text-align: right;\">\n",
       "      <th></th>\n",
       "      <th>input_text</th>\n",
       "      <th>anonymizations</th>\n",
       "    </tr>\n",
       "  </thead>\n",
       "  <tbody>\n",
       "    <tr>\n",
       "      <th>0</th>\n",
       "      <td>Mój numer PESEL to 93082909312</td>\n",
       "      <td>93082909312 =&gt; (...)</td>\n",
       "    </tr>\n",
       "    <tr>\n",
       "      <th>1</th>\n",
       "      <td>Zanonimizuj numer KRS 51727</td>\n",
       "      <td>KRS 51727 =&gt; KRS (...)</td>\n",
       "    </tr>\n",
       "    <tr>\n",
       "      <th>2</th>\n",
       "      <td>Zanonimizuj numer VIN W2151D09727</td>\n",
       "      <td>VIN W2151D09727 =&gt; VIN (...)</td>\n",
       "    </tr>\n",
       "    <tr>\n",
       "      <th>3</th>\n",
       "      <td>Samochód o nr. rej. WWL 5273</td>\n",
       "      <td>BRAK</td>\n",
       "    </tr>\n",
       "  </tbody>\n",
       "</table>"
      ],
      "text/plain": [
       "<IPython.core.display.HTML object>"
      ]
     },
     "metadata": {},
     "output_type": "display_data"
    }
   ],
   "source": [
    "examples = [\n",
    "    \"Mój numer PESEL to 93082909312\",\n",
    "    \"Zanonimizuj numer KRS 51727\",\n",
    "    \"Zanonimizuj numer VIN W2151D09727\",\n",
    "    \"Samochód o nr. rej. WWL 5273\",\n",
    "]\n",
    "\n",
    "results = {\n",
    "    \"input_text\": [],\n",
    "    \"anonymizations\": [],\n",
    "}\n",
    "for ex in examples:\n",
    "    results[\"input_text\"].append(ex)\n",
    "    out = generate_result(ex)\n",
    "    if len(out) == 0:\n",
    "        out = \"BRAK\"\n",
    "    results[\"anonymizations\"].append(out)\n",
    "    \n",
    "pretty_print(pd.DataFrame(results))"
   ]
  }
 ],
 "metadata": {
  "kernelspec": {
   "display_name": "Python 3 (ipykernel)",
   "language": "python",
   "name": "python3"
  },
  "language_info": {
   "codemirror_mode": {
    "name": "ipython",
    "version": 3
   },
   "file_extension": ".py",
   "mimetype": "text/x-python",
   "name": "python",
   "nbconvert_exporter": "python",
   "pygments_lexer": "ipython3",
   "version": "3.9.5"
  }
 },
 "nbformat": 4,
 "nbformat_minor": 5
}
