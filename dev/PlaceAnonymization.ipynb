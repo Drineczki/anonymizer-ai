{
 "cells": [
  {
   "cell_type": "markdown",
   "id": "d7a2a19a-bfb9-4d8c-91fb-aa9b59d72188",
   "metadata": {},
   "source": [
    "# Place Anonymization\n",
    "\n",
    "### Project: Anonymizer\n",
    "\n",
    "#### Drineczki AI"
   ]
  },
  {
   "cell_type": "code",
   "execution_count": 2,
   "id": "9f350209-fe68-42c0-bc40-73da2ee5053c",
   "metadata": {},
   "outputs": [],
   "source": [
    "import os\n",
    "os.chdir(\"..\")"
   ]
  },
  {
   "cell_type": "code",
   "execution_count": 3,
   "id": "b1a4dc50-f95f-4022-b771-7e1816dfd16e",
   "metadata": {},
   "outputs": [],
   "source": [
    "import anonymizer.agent as ai\n",
    "\n",
    "%load_ext autoreload\n",
    "%autoreload 2"
   ]
  },
  {
   "cell_type": "code",
   "execution_count": 4,
   "id": "9e7bbd03-e299-4535-861b-7b692fac01ef",
   "metadata": {},
   "outputs": [],
   "source": [
    "SPACY_MODEL_PIPELINE = os.path.join(os.getcwd(), \"models\", \"spacy\", \"pl_core_news_md-3.1.0\")\n",
    "\n",
    "SAMPLE_TEXT = \"\"\"\n",
    "    Komornik Sądowy przy Sądzie Rejonowym w Gdańsku Karol Jan Kurenda-Nowak \n",
    "    w sprawie egzekucyjnej z wniosku wierzyciela: \n",
    "    easyDEBT Niestandaryzowany Sekurytyzacyjn Fundusz Inwestycyjny Zamknięty \n",
    "    Sąd 01-208 Warszawa, Przyokopowa 33 którego reprezentuje: Mateusz Malaka, 53-333 Ruda Śląska, \n",
    "    Powstańców Śląskich 2-4\n",
    "    A wszystkiemu nadzorował Andrzej Jan Kowalski-Łazarski.\n",
    "    Morderstwo na ul. Powstańców Śląskich\n",
    "    Widziałem świadka przy placu Trzech Krzyży.\n",
    "    Mieszkał w powiecie oleśnickim przy jeziorze Wigry Wielkie.\n",
    "\"\"\""
   ]
  },
  {
   "cell_type": "code",
   "execution_count": 5,
   "id": "5e0619b5-1a1d-4b30-8418-9d4b739538b7",
   "metadata": {},
   "outputs": [],
   "source": [
    "agent = ai.DocumentAnonymizer(spacy_pipeline_path=SPACY_MODEL_PIPELINE)"
   ]
  },
  {
   "cell_type": "code",
   "execution_count": 6,
   "id": "09f373d9-6483-4b16-af55-002742d9d0c2",
   "metadata": {},
   "outputs": [
    {
     "name": "stdout",
     "output_type": "stream",
     "text": [
      "w\n",
      "rejonowy\n",
      " \n",
      "przy\n",
      "sądowy\n",
      "208\n",
      "-\n",
      "01\n",
      "sąd\n",
      "\n",
      "    \n",
      "333\n",
      "-\n",
      "53\n",
      ",\n",
      "Malak\n",
      "w\n",
      "mieszkać\n",
      "\n",
      "    \n",
      ".\n",
      "krzyż\n"
     ]
    },
    {
     "data": {
      "text/plain": [
       "[AnonymizationResult(entity='Mateusz Malaka', anonymization='M. M.', anon_type='pers'),\n",
       " AnonymizationResult(entity='Andrzej Jan Kowalski-Łazarski', anonymization='A. Ł.', anon_type='pers'),\n",
       " AnonymizationResult(entity='Gdańsku', anonymization='G.', anon_type='place'),\n",
       " AnonymizationResult(entity='Ruda Śląska', anonymization='R.', anon_type='place'),\n",
       " AnonymizationResult(entity='powiecie oleśnickim', anonymization='powiecie (...)', anon_type='place'),\n",
       " AnonymizationResult(entity='Powstańców Śląskich', anonymization=' P.', anon_type='geoloc'),\n",
       " AnonymizationResult(entity='ul. Powstańców Śląskich', anonymization='ul. (...)', anon_type='geoloc'),\n",
       " AnonymizationResult(entity='placu Trzech Krzyży', anonymization='placu (...)', anon_type='geoloc'),\n",
       " AnonymizationResult(entity='jeziorze Wigry Wielkie', anonymization=' jeziorze W.', anon_type='geoloc')]"
      ]
     },
     "execution_count": 10,
     "metadata": {},
     "output_type": "execute_result"
    }
   ],
   "source": [
    "place_anonymizations = agent.anonymize(text=SAMPLE_TEXT)\n",
    "\n",
    "place_anonymizations"
   ]
  }
 ],
 "metadata": {
  "kernelspec": {
   "display_name": "Python 3 (ipykernel)",
   "language": "python",
   "name": "python3"
  },
  "language_info": {
   "codemirror_mode": {
    "name": "ipython",
    "version": 3
   },
   "file_extension": ".py",
   "mimetype": "text/x-python",
   "name": "python",
   "nbconvert_exporter": "python",
   "pygments_lexer": "ipython3",
   "version": "3.9.5"
  }
 },
 "nbformat": 4,
 "nbformat_minor": 5
}
