{
 "cells": [
  {
   "cell_type": "markdown",
   "id": "68f714d4-530b-43ae-b00f-2078476b0539",
   "metadata": {},
   "source": [
    "# Spacy Model Research\n",
    "\n",
    "### Project: Anonymizer\n",
    "\n",
    "#### Drineczki AI"
   ]
  },
  {
   "cell_type": "code",
   "execution_count": 2,
   "id": "c0c17cfb-bcf2-4701-a875-e27fea8f59f5",
   "metadata": {},
   "outputs": [],
   "source": [
    "import os\n",
    "os.chdir(\"..\")"
   ]
  },
  {
   "cell_type": "code",
   "execution_count": 3,
   "id": "3678a15e-af33-4a40-a618-0eba7ffe2166",
   "metadata": {},
   "outputs": [],
   "source": [
    "import anonymizer.agent as A\n",
    "\n",
    "%load_ext autoreload\n",
    "%autoreload 2"
   ]
  },
  {
   "cell_type": "code",
   "execution_count": 4,
   "id": "a4b784c1-f116-41f5-bcb6-d18152697ff6",
   "metadata": {},
   "outputs": [],
   "source": [
    "SPACY_MODEL_PIPELINE = os.path.join(os.getcwd(), \"models\", \"spacy\", \"pl_core_news_md-3.1.0\") "
   ]
  },
  {
   "cell_type": "code",
   "execution_count": 5,
   "id": "b37519e0-a21b-41b8-b384-766355c0cdc6",
   "metadata": {},
   "outputs": [],
   "source": [
    "agent = A.DocumentAnonymizer(spacy_pipeline_path=SPACY_MODEL_PIPELINE)"
   ]
  },
  {
   "cell_type": "code",
   "execution_count": 6,
   "id": "bd6cea8c-518d-498f-9f31-07c2ef2e7b71",
   "metadata": {},
   "outputs": [],
   "source": [
    "def build_token_representation(token):\n",
    "    return f\"{token.text}:\\n\\tNER: {token.ent_iob_}, {token.ent_type_}\\n\\tLemma: {token.lemma_}\\n\\tPOS: {token.pos_}\""
   ]
  },
  {
   "cell_type": "code",
   "execution_count": 7,
   "id": "27df28e5-7404-4585-abf4-eb3c5707b212",
   "metadata": {},
   "outputs": [],
   "source": [
    "doc = agent.nlp(\"Widziałem świadka przy placu Trzech Krzyży.\")"
   ]
  },
  {
   "cell_type": "code",
   "execution_count": 10,
   "id": "c6e1ba04-b4ca-4373-856b-a5c274cf0b58",
   "metadata": {},
   "outputs": [
    {
     "name": "stdout",
     "output_type": "stream",
     "text": [
      "Prezydent:\n",
      "\tNER: O, \n",
      "\tLemma: prezydent\n",
      "\tPOS: NOUN\n",
      "Sejm:\n",
      "\tNER: B, orgName\n",
      "\tLemma: sejm\n",
      "\tPOS: NOUN\n",
      "Senat:\n",
      "\tNER: I, orgName\n",
      "\tLemma: senat\n",
      "\tPOS: NOUN\n",
      "Urząd:\n",
      "\tNER: I, orgName\n",
      "\tLemma: urząd\n",
      "\tPOS: NOUN\n",
      "Ministerstwo:\n",
      "\tNER: I, orgName\n",
      "\tLemma: ministerstwo\n",
      "\tPOS: NOUN\n",
      "Rządowe:\n",
      "\tNER: I, orgName\n",
      "\tLemma: rządowy\n",
      "\tPOS: ADJ\n",
      "Rzecznik:\n",
      "\tNER: O, \n",
      "\tLemma: rzecznik\n",
      "\tPOS: NOUN\n",
      "Krajowa:\n",
      "\tNER: B, orgName\n",
      "\tLemma: krajowy\n",
      "\tPOS: ADJ\n",
      "Państwowa:\n",
      "\tNER: I, orgName\n",
      "\tLemma: państwowy\n",
      "\tPOS: ADJ\n",
      "Wojskowy:\n",
      "\tNER: I, orgName\n",
      "\tLemma: wojskowy\n",
      "\tPOS: ADJ\n",
      "Kancelaria:\n",
      "\tNER: I, orgName\n",
      "\tLemma: kancelaria\n",
      "\tPOS: NOUN\n",
      "Sąd:\n",
      "\tNER: I, orgName\n",
      "\tLemma: sąd\n",
      "\tPOS: NOUN\n",
      "Sądy:\n",
      "\tNER: I, orgName\n",
      "\tLemma: sądy\n",
      "\tPOS: ADJ\n",
      "Trybunał:\n",
      "\tNER: I, orgName\n",
      "\tLemma: trybunał\n",
      "\tPOS: NOUN\n",
      "Rzecznik:\n",
      "\tNER: I, orgName\n",
      "\tLemma: rzecznik\n",
      "\tPOS: NOUN\n",
      "Administracja:\n",
      "\tNER: I, orgName\n",
      "\tLemma: administracja\n",
      "\tPOS: NOUN\n",
      "Samorząd:\n",
      "\tNER: I, orgName\n",
      "\tLemma: samorząd\n",
      "\tPOS: NOUN\n",
      "Biblioteka:\n",
      "\tNER: I, orgName\n",
      "\tLemma: biblioteka\n",
      "\tPOS: NOUN\n",
      "Miejskie:\n",
      "\tNER: I, orgName\n",
      "\tLemma: miejski\n",
      "\tPOS: ADJ\n",
      "Starostwo:\n",
      "\tNER: I, orgName\n",
      "\tLemma: starostwo\n",
      "\tPOS: NOUN\n",
      "Regionalna:\n",
      "\tNER: I, orgName\n",
      "\tLemma: regionalny\n",
      "\tPOS: ADJ\n",
      "Miejska:\n",
      "\tNER: I, orgName\n",
      "\tLemma: miejski\n",
      "\tPOS: ADJ\n",
      "Narodowe:\n",
      "\tNER: I, orgName\n",
      "\tLemma: narodowy\n",
      "\tPOS: ADJ\n"
     ]
    }
   ],
   "source": [
    "doc = agent.nlp(\"Prezydent Sejm Senat Urząd Ministerstwo Rządowe Rzecznik Krajowa Państwowa Wojskowy Kancelaria Sąd Sądy Trybunał Rzecznik Administracja Samorząd Biblioteka Miejskie Starostwo Regionalna Miejska Narodowe\")\n",
    "\n",
    "for token in doc:\n",
    "    print(build_token_representation(token))"
   ]
  }
 ],
 "metadata": {
  "kernelspec": {
   "display_name": "Python 3 (ipykernel)",
   "language": "python",
   "name": "python3"
  },
  "language_info": {
   "codemirror_mode": {
    "name": "ipython",
    "version": 3
   },
   "file_extension": ".py",
   "mimetype": "text/x-python",
   "name": "python",
   "nbconvert_exporter": "python",
   "pygments_lexer": "ipython3",
   "version": "3.9.5"
  }
 },
 "nbformat": 4,
 "nbformat_minor": 5
}
