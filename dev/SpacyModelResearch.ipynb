{
 "cells": [
  {
   "cell_type": "markdown",
   "id": "68f714d4-530b-43ae-b00f-2078476b0539",
   "metadata": {},
   "source": [
    "# Spacy Model Research\n",
    "\n",
    "### Project: Anonymizer\n",
    "\n",
    "#### Drineczki AI"
   ]
  },
  {
   "cell_type": "code",
   "execution_count": 1,
   "id": "c0c17cfb-bcf2-4701-a875-e27fea8f59f5",
   "metadata": {},
   "outputs": [],
   "source": [
    "import os\n",
    "os.chdir(\"..\")"
   ]
  },
  {
   "cell_type": "code",
   "execution_count": 20,
   "id": "3678a15e-af33-4a40-a618-0eba7ffe2166",
   "metadata": {},
   "outputs": [
    {
     "name": "stdout",
     "output_type": "stream",
     "text": [
      "The autoreload extension is already loaded. To reload it, use:\n",
      "  %reload_ext autoreload\n"
     ]
    }
   ],
   "source": [
    "import anonymizer.agent as A\n",
    "\n",
    "%load_ext autoreload\n",
    "%autoreload 2"
   ]
  },
  {
   "cell_type": "code",
   "execution_count": 3,
   "id": "a4b784c1-f116-41f5-bcb6-d18152697ff6",
   "metadata": {},
   "outputs": [],
   "source": [
    "SPACY_MODEL_PIPELINE = os.path.join(os.getcwd(), \"models\", \"spacy\", \"pl_core_news_md-3.1.0\") "
   ]
  },
  {
   "cell_type": "code",
   "execution_count": 4,
   "id": "b37519e0-a21b-41b8-b384-766355c0cdc6",
   "metadata": {},
   "outputs": [],
   "source": [
    "agent = A.DocumentAnonymizer(spacy_pipeline_path=SPACY_MODEL_PIPELINE)"
   ]
  },
  {
   "cell_type": "code",
   "execution_count": 5,
   "id": "bd6cea8c-518d-498f-9f31-07c2ef2e7b71",
   "metadata": {},
   "outputs": [],
   "source": [
    "def build_token_representation(token):\n",
    "    return f\"{token.text}:\\n\\tNER: {token.ent_iob_}, {token.ent_type_}\\n\\tLemma: {token.lemma_}\\n\\tPOS: {token.pos_}\""
   ]
  },
  {
   "cell_type": "code",
   "execution_count": 21,
   "id": "27df28e5-7404-4585-abf4-eb3c5707b212",
   "metadata": {},
   "outputs": [],
   "source": [
    "doc = agent.nlp(\"SSA\")"
   ]
  },
  {
   "cell_type": "code",
   "execution_count": 22,
   "id": "c6e1ba04-b4ca-4373-856b-a5c274cf0b58",
   "metadata": {},
   "outputs": [
    {
     "name": "stdout",
     "output_type": "stream",
     "text": [
      "SSA:\n",
      "\tNER: B, orgName\n",
      "\tLemma: ssa\n",
      "\tPOS: PROPN\n"
     ]
    }
   ],
   "source": [
    "for token in doc:\n",
    "    print(build_token_representation(token))"
   ]
  }
 ],
 "metadata": {
  "kernelspec": {
   "display_name": "Python 3 (ipykernel)",
   "language": "python",
   "name": "python3"
  },
  "language_info": {
   "codemirror_mode": {
    "name": "ipython",
    "version": 3
   },
   "file_extension": ".py",
   "mimetype": "text/x-python",
   "name": "python",
   "nbconvert_exporter": "python",
   "pygments_lexer": "ipython3",
   "version": "3.9.5"
  }
 },
 "nbformat": 4,
 "nbformat_minor": 5
}
